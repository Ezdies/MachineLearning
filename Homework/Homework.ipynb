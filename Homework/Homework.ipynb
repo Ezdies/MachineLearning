{
  "nbformat": 4,
  "nbformat_minor": 0,
  "metadata": {
    "colab": {
      "provenance": []
    },
    "kernelspec": {
      "name": "python3",
      "display_name": "Python 3"
    },
    "language_info": {
      "name": "python"
    }
  },
  "cells": [
    {
      "cell_type": "code",
      "source": [
        "# Weather Classification Task\n",
        "\n",
        "## Wczytywanie i eksploracja danych\n",
        "\n",
        "import pandas as pd\n",
        "import numpy as np\n",
        "import matplotlib.pyplot as plt\n",
        "import seaborn as sns\n",
        "from sklearn.model_selection import train_test_split, GridSearchCV\n",
        "from sklearn.preprocessing import StandardScaler, LabelEncoder\n",
        "from sklearn.impute import SimpleImputer\n",
        "from sklearn.metrics import classification_report, accuracy_score, roc_auc_score, confusion_matrix, ConfusionMatrixDisplay\n",
        "\n",
        "# Wczytanie danych\n",
        "data = pd.read_csv('weather.csv')\n",
        "\n",
        "# Podstawowa analiza danych\n",
        "print(data.info())\n",
        "print(data.describe())\n",
        "\n",
        "# Sprawdzenie brakujących wartości\n",
        "missing_values = data.isnull().sum()\n",
        "print(\"Brakujące wartości:\\n\", missing_values)\n",
        "\n",
        "## Przygotowanie danych\n",
        "\n",
        "# Usunięcie kolumn nieistotnych do zadania\n",
        "data.drop(columns=['Date', 'Location', 'RainToday', 'RISK_MM'], inplace=True)\n",
        "\n",
        "# Podział kolumn na numeryczne i kategoryczne\n",
        "numerical_columns = data.select_dtypes(include=['float64', 'int64']).columns\n",
        "categorical_columns = data.select_dtypes(include=['object']).columns\n",
        "\n",
        "# Imputacja braków danych\n",
        "num_imputer = SimpleImputer(strategy='mean')\n",
        "cat_imputer = SimpleImputer(strategy='most_frequent')\n",
        "\n",
        "numerical_data = pd.DataFrame(num_imputer.fit_transform(data[numerical_columns]), columns=numerical_columns)\n",
        "categorical_data = pd.DataFrame(cat_imputer.fit_transform(data[categorical_columns]), columns=categorical_columns)\n",
        "\n",
        "# Połączenie danych numerycznych i kategorycznych\n",
        "data_imputed = pd.concat([numerical_data, categorical_data], axis=1)\n",
        "\n",
        "# Kodowanie zmiennych kategorycznych\n",
        "for col in categorical_columns:\n",
        "    data_imputed[col] = LabelEncoder().fit_transform(data_imputed[col])\n",
        "\n",
        "# Rozdział na cechy i zmienną celu\n",
        "X = data_imputed.drop(columns='RainTomorrow')\n",
        "y = data_imputed['RainTomorrow']\n",
        "\n",
        "# Skalowanie cech\n",
        "scaler = StandardScaler()\n",
        "X_scaled = pd.DataFrame(scaler.fit_transform(X), columns=X.columns)\n",
        "\n",
        "# Podział na zbiory treningowy i testowy\n",
        "X_train, X_test, y_train, y_test = train_test_split(X_scaled, y, test_size=0.25, stratify=y, random_state=50)"
      ],
      "metadata": {
        "colab": {
          "base_uri": "https://localhost:8080/"
        },
        "id": "2udlQCWXEbMO",
        "outputId": "14bcf1b6-2910-4334-e23b-cfae4b8d0268"
      },
      "execution_count": 14,
      "outputs": [
        {
          "output_type": "stream",
          "name": "stdout",
          "text": [
            "<class 'pandas.core.frame.DataFrame'>\n",
            "RangeIndex: 366 entries, 0 to 365\n",
            "Data columns (total 24 columns):\n",
            " #   Column         Non-Null Count  Dtype  \n",
            "---  ------         --------------  -----  \n",
            " 0   Date           366 non-null    object \n",
            " 1   Location       366 non-null    object \n",
            " 2   MinTemp        366 non-null    float64\n",
            " 3   MaxTemp        366 non-null    float64\n",
            " 4   Rainfall       366 non-null    float64\n",
            " 5   Evaporation    366 non-null    float64\n",
            " 6   Sunshine       363 non-null    float64\n",
            " 7   WindGustDir    363 non-null    object \n",
            " 8   WindGustSpeed  364 non-null    float64\n",
            " 9   WindDir9am     335 non-null    object \n",
            " 10  WindDir3pm     365 non-null    object \n",
            " 11  WindSpeed9am   359 non-null    float64\n",
            " 12  WindSpeed3pm   366 non-null    int64  \n",
            " 13  Humidity9am    366 non-null    int64  \n",
            " 14  Humidity3pm    366 non-null    int64  \n",
            " 15  Pressure9am    366 non-null    float64\n",
            " 16  Pressure3pm    366 non-null    float64\n",
            " 17  Cloud9am       366 non-null    int64  \n",
            " 18  Cloud3pm       366 non-null    int64  \n",
            " 19  Temp9am        366 non-null    float64\n",
            " 20  Temp3pm        366 non-null    float64\n",
            " 21  RainToday      366 non-null    object \n",
            " 22  RISK_MM        366 non-null    float64\n",
            " 23  RainTomorrow   366 non-null    object \n",
            "dtypes: float64(12), int64(5), object(7)\n",
            "memory usage: 68.8+ KB\n",
            "None\n",
            "          MinTemp     MaxTemp    Rainfall  Evaporation    Sunshine  \\\n",
            "count  366.000000  366.000000  366.000000   366.000000  363.000000   \n",
            "mean     7.265574   20.550273    1.428415     4.521858    7.909366   \n",
            "std      6.025800    6.690516    4.225800     2.669383    3.481517   \n",
            "min     -5.300000    7.600000    0.000000     0.200000    0.000000   \n",
            "25%      2.300000   15.025000    0.000000     2.200000    5.950000   \n",
            "50%      7.450000   19.650000    0.000000     4.200000    8.600000   \n",
            "75%     12.500000   25.500000    0.200000     6.400000   10.500000   \n",
            "max     20.900000   35.800000   39.800000    13.800000   13.600000   \n",
            "\n",
            "       WindGustSpeed  WindSpeed9am  WindSpeed3pm  Humidity9am  Humidity3pm  \\\n",
            "count     364.000000    359.000000    366.000000   366.000000   366.000000   \n",
            "mean       39.840659      9.651811     17.986339    72.035519    44.519126   \n",
            "std        13.059807      7.951929      8.856997    13.137058    16.850947   \n",
            "min        13.000000      0.000000      0.000000    36.000000    13.000000   \n",
            "25%        31.000000      6.000000     11.000000    64.000000    32.250000   \n",
            "50%        39.000000      7.000000     17.000000    72.000000    43.000000   \n",
            "75%        46.000000     13.000000     24.000000    81.000000    55.000000   \n",
            "max        98.000000     41.000000     52.000000    99.000000    96.000000   \n",
            "\n",
            "       Pressure9am  Pressure3pm    Cloud9am    Cloud3pm     Temp9am  \\\n",
            "count   366.000000   366.000000  366.000000  366.000000  366.000000   \n",
            "mean   1019.709016  1016.810383    3.890710    4.024590   12.358470   \n",
            "std       6.686212     6.469422    2.956131    2.666268    5.630832   \n",
            "min     996.500000   996.800000    0.000000    0.000000    0.100000   \n",
            "25%    1015.350000  1012.800000    1.000000    1.000000    7.625000   \n",
            "50%    1020.150000  1017.400000    3.500000    4.000000   12.550000   \n",
            "75%    1024.475000  1021.475000    7.000000    7.000000   17.000000   \n",
            "max    1035.700000  1033.200000    8.000000    8.000000   24.700000   \n",
            "\n",
            "          Temp3pm     RISK_MM  \n",
            "count  366.000000  366.000000  \n",
            "mean    19.230874    1.428415  \n",
            "std      6.640346    4.225800  \n",
            "min      5.100000    0.000000  \n",
            "25%     14.150000    0.000000  \n",
            "50%     18.550000    0.000000  \n",
            "75%     24.000000    0.200000  \n",
            "max     34.500000   39.800000  \n",
            "Brakujące wartości:\n",
            " Date              0\n",
            "Location          0\n",
            "MinTemp           0\n",
            "MaxTemp           0\n",
            "Rainfall          0\n",
            "Evaporation       0\n",
            "Sunshine          3\n",
            "WindGustDir       3\n",
            "WindGustSpeed     2\n",
            "WindDir9am       31\n",
            "WindDir3pm        1\n",
            "WindSpeed9am      7\n",
            "WindSpeed3pm      0\n",
            "Humidity9am       0\n",
            "Humidity3pm       0\n",
            "Pressure9am       0\n",
            "Pressure3pm       0\n",
            "Cloud9am          0\n",
            "Cloud3pm          0\n",
            "Temp9am           0\n",
            "Temp3pm           0\n",
            "RainToday         0\n",
            "RISK_MM           0\n",
            "RainTomorrow      0\n",
            "dtype: int64\n"
          ]
        }
      ]
    },
    {
      "cell_type": "code",
      "source": [
        "## K Najbliższych Sąsiadów\n",
        "\n",
        "from sklearn.neighbors import KNeighborsClassifier\n",
        "\n",
        "param_grid_knn = {'n_neighbors': [3, 5, 7], 'weights': ['uniform', 'distance']}\n",
        "gs_knn = GridSearchCV(KNeighborsClassifier(), param_grid_knn, cv=3, scoring='f1')\n",
        "gs_knn.fit(X_train, y_train)\n",
        "knn_best = gs_knn.best_estimator_\n",
        "knn_best.fit(X_train, y_train)\n",
        "y_test_pred = knn_best.predict(X_test)\n",
        "print(\"KNN - Wyniki optymalizacji:\")\n",
        "print(classification_report(y_test, y_test_pred))"
      ],
      "metadata": {
        "colab": {
          "base_uri": "https://localhost:8080/"
        },
        "id": "ZAvyUYKOFGge",
        "outputId": "6ec8d2ed-2103-4f23-b131-7449e193babe"
      },
      "execution_count": 15,
      "outputs": [
        {
          "output_type": "stream",
          "name": "stdout",
          "text": [
            "KNN - Wyniki optymalizacji:\n",
            "              precision    recall  f1-score   support\n",
            "\n",
            "           0       0.87      1.00      0.93        75\n",
            "           1       1.00      0.35      0.52        17\n",
            "\n",
            "    accuracy                           0.88        92\n",
            "   macro avg       0.94      0.68      0.73        92\n",
            "weighted avg       0.90      0.88      0.86        92\n",
            "\n"
          ]
        }
      ]
    },
    {
      "cell_type": "markdown",
      "source": [
        "# 1. K Najbliższych Sąsiadów (KNN)\n",
        "##Dobór parametrów:\n",
        "\n",
        "\n",
        "\n",
        "*   `n_neighbors`: Testowano wartości 3, 5 i 7. Te wartości są powszechnie stosowane,\n",
        "ponieważ umożliwiają zróżnicowanie liczby sąsiadów przy zachowaniu rozsądnej złożoności obliczeniowej. Większa liczba sąsiadów mogłaby zbytnio wygładzić granice decyzyjne, tracąc szczegóły w danych.\n",
        "*  `weights`: Wybrano `uniform` i `distance`. Parametr ten pozwala porównać wpływ równomiernego i zróżnicowanego wagowo wpływu sąsiadów na decyzje.\n",
        "\n",
        "##Wnioski:\n",
        "\n",
        "- Model osiągnął precyzję równą 1 dla klasy deszczowej, ale bardzo niski recall (0.35), co wskazuje, że rzadko klasyfikuje dni jako deszczowe.\n",
        "- Ograniczony zakres n_neighbors może być zbyt wąski, by uchwycić optymalną liczbę sąsiadów.\n",
        "\n",
        "##Co poprawić:\n",
        "\n",
        "- Testowanie większych wartości `n_neighbors` (np. do 15 lub 20), szczególnie w przypadku danych o większej liczbie punktów.\n",
        "- Zastosowanie balansu klas poprzez oversampling dla dni deszczowych."
      ],
      "metadata": {
        "id": "w5yJI73gFJHb"
      }
    },
    {
      "cell_type": "code",
      "source": [
        "## Regresja Logistyczna\n",
        "\n",
        "from sklearn.linear_model import LogisticRegression\n",
        "\n",
        "param_grid_lr = {'C': [0.1, 1, 10], 'penalty': ['l2']}\n",
        "gs_lr = GridSearchCV(LogisticRegression(max_iter=1000), param_grid_lr, cv=3, scoring='f1', error_score='raise')\n",
        "gs_lr.fit(X_train, y_train)\n",
        "lr_best = gs_lr.best_estimator_\n",
        "lr_best.fit(X_train, y_train)\n",
        "y_test_pred = lr_best.predict(X_test)\n",
        "print(\"Regresja Logistyczna - Wyniki optymalizacji:\")\n",
        "print(classification_report(y_test, y_test_pred))"
      ],
      "metadata": {
        "colab": {
          "base_uri": "https://localhost:8080/"
        },
        "id": "9rNViMO3Gq6b",
        "outputId": "45f718aa-88fb-46fd-8c0d-0bd4ba0d0170"
      },
      "execution_count": 16,
      "outputs": [
        {
          "output_type": "stream",
          "name": "stdout",
          "text": [
            "Regresja Logistyczna - Wyniki optymalizacji:\n",
            "              precision    recall  f1-score   support\n",
            "\n",
            "           0       0.90      0.99      0.94        75\n",
            "           1       0.90      0.53      0.67        17\n",
            "\n",
            "    accuracy                           0.90        92\n",
            "   macro avg       0.90      0.76      0.80        92\n",
            "weighted avg       0.90      0.90      0.89        92\n",
            "\n"
          ]
        }
      ]
    },
    {
      "cell_type": "markdown",
      "source": [
        "#2. Regresja Logistyczna\n",
        "##Dobór parametrów:\n",
        "\n",
        "- `C`: Zakres 0.1, 1, 10 reprezentuje różne poziomy regularyzacji. Mniejsze wartości C oznaczają silniejszą regularyzację, co pomaga uniknąć przeuczenia.\n",
        "- `penalty`: Wybrano tylko `l2`, ponieważ jest to standardowa regularyzacja wspierana przez solver `lbfgs`.\n",
        "\n",
        "##Wnioski:\n",
        "\n",
        "- Regresja logistyczna osiągnęła wysoki F1-score (0.67) dla klasy deszczowej, co wskazuje na dobrą równowagę między precyzją a recall.\n",
        "- Model dobrze radzi sobie z danymi liniowo separowalnymi.\n",
        "\n",
        "##Co poprawić:\n",
        "\n",
        "- Rozważenie innych typów regularyzacji, takich jak `l1`, jeśli dane mogą być rzadkie lub cechy są mniej istotne.\n",
        "- Eksploracja interakcji między zmiennymi, aby poprawić separację klas."
      ],
      "metadata": {
        "id": "A-_m-WZsHF3f"
      }
    },
    {
      "cell_type": "code",
      "source": [
        "## SVM\n",
        "\n",
        "from sklearn.svm import SVC\n",
        "\n",
        "param_grid_svm = {'C': [0.1, 1, 10], 'kernel': ['linear', 'rbf']}\n",
        "gs_svm = GridSearchCV(SVC(), param_grid_svm, cv=3, scoring='f1')\n",
        "gs_svm.fit(X_train, y_train)\n",
        "svm_best = gs_svm.best_estimator_\n",
        "svm_best.fit(X_train, y_train)\n",
        "y_test_pred = svm_best.predict(X_test)\n",
        "print(\"SVM - Wyniki optymalizacji:\")\n",
        "print(classification_report(y_test, y_test_pred))"
      ],
      "metadata": {
        "colab": {
          "base_uri": "https://localhost:8080/"
        },
        "id": "2L8XqyrrIZK5",
        "outputId": "ce5ca80e-5e6d-421d-e661-286097655286"
      },
      "execution_count": 17,
      "outputs": [
        {
          "output_type": "stream",
          "name": "stdout",
          "text": [
            "SVM - Wyniki optymalizacji:\n",
            "              precision    recall  f1-score   support\n",
            "\n",
            "           0       0.90      0.97      0.94        75\n",
            "           1       0.82      0.53      0.64        17\n",
            "\n",
            "    accuracy                           0.89        92\n",
            "   macro avg       0.86      0.75      0.79        92\n",
            "weighted avg       0.89      0.89      0.88        92\n",
            "\n"
          ]
        }
      ]
    },
    {
      "cell_type": "markdown",
      "source": [
        "#3. Support Vector Machine (SVM)\n",
        "##Dobór parametrów:\n",
        "\n",
        "- C: Podobnie jak w regresji logistycznej, zakres regularyzacji pozwala na kontrolę złożoności modelu.\n",
        "- kernel: Wybrano `linear` i `rbf`, ponieważ pokrywają one proste i nieliniowe przypadki separacji.\n",
        "\n",
        "##Wnioski:\n",
        "\n",
        "- SVM osiągnął F1-score równy 0.64 dla klasy deszczowej, ale jego recall (0.53) wskazuje, że model pomija niektóre dni deszczowe.\n",
        "- Model działa dobrze dla danych liniowo separowalnych, ale może mieć problemy z bardziej złożonymi wzorcami.\n",
        "\n",
        "##Co poprawić:\n",
        "\n",
        "- Zwiększenie zakresu C i testowanie dodatkowych funkcji jądra, takich jak `poly` czy `sigmoid`.\n",
        "- Wypróbowanie skalowania zmiennych w bardziej specyficzny sposób dla każdego jądra"
      ],
      "metadata": {
        "id": "gfagZpHjIgt2"
      }
    },
    {
      "cell_type": "code",
      "source": [
        "## Drzewa Decyzyjne\n",
        "\n",
        "from sklearn.tree import DecisionTreeClassifier\n",
        "\n",
        "param_grid_dt = {\n",
        "    'max_depth': [5, 10, 15],\n",
        "    'min_samples_split': [2, 5],\n",
        "    'min_samples_leaf': [1, 5],\n",
        "    'class_weight': ['balanced']\n",
        "}\n",
        "gs_dt = GridSearchCV(DecisionTreeClassifier(), param_grid_dt, cv=3, scoring='f1')\n",
        "gs_dt.fit(X_train, y_train)\n",
        "dt_best = gs_dt.best_estimator_\n",
        "dt_best.fit(X_train, y_train)\n",
        "y_test_pred = dt_best.predict(X_test)\n",
        "print(\"Drzewa Decyzyjne - Wyniki optymalizacji:\")\n",
        "print(classification_report(y_test, y_test_pred))"
      ],
      "metadata": {
        "colab": {
          "base_uri": "https://localhost:8080/"
        },
        "id": "gBru76GxJn2m",
        "outputId": "fc1621c7-a85c-4d4b-f3b7-2ecd3ba8533e"
      },
      "execution_count": 18,
      "outputs": [
        {
          "output_type": "stream",
          "name": "stdout",
          "text": [
            "Drzewa Decyzyjne - Wyniki optymalizacji:\n",
            "              precision    recall  f1-score   support\n",
            "\n",
            "           0       0.83      0.80      0.82        75\n",
            "           1       0.25      0.29      0.27        17\n",
            "\n",
            "    accuracy                           0.71        92\n",
            "   macro avg       0.54      0.55      0.54        92\n",
            "weighted avg       0.73      0.71      0.72        92\n",
            "\n"
          ]
        }
      ]
    },
    {
      "cell_type": "markdown",
      "source": [
        "#4. Drzewa Decyzyjne\n",
        "##Dobór parametrów:\n",
        "\n",
        "- `max_depth`: Użyto wartości 5, 10, i 15, aby kontrolować złożoność drzewa i uniknąć przeuczenia.\n",
        "- `min_samples_split` i `min_samples_leaf`: Ustalono wartości 2, 5 i 1, 5, aby zapewnić minimalną liczbę próbek w węzłach, co ogranicza przeuczenie.\n",
        "- `class_weight`: Użyto balanced, aby uwzględnić różnicę w liczbie próbek między klasami.\n",
        "\n",
        "##Wnioski:\n",
        "\n",
        "- Drzewa decyzyjne osiągnęły niskie wyniki (F1-score 0.28 dla klasy deszczowej). Sugeruje to, że model nie jest w stanie dobrze uchwycić wzorców w danych.\n",
        "- Problemy mogą wynikać z niedostatecznego zakresu `max_depth` lub potrzeby większej liczby cech istotnych.\n",
        "\n",
        "##Co poprawić:\n",
        "\n",
        "- Rozszerzenie zakresu `max_depth` (np. do 20).\n",
        "- Testowanie różnych kryteriów podziału, takich jak `entropy`."
      ],
      "metadata": {
        "id": "MSHGDTbTJprz"
      }
    },
    {
      "cell_type": "code",
      "source": [
        "## Random Forest\n",
        "\n",
        "from sklearn.ensemble import RandomForestClassifier\n",
        "\n",
        "param_grid_rf = {\n",
        "    'n_estimators': [50, 100],\n",
        "    'max_depth': [5, 10],\n",
        "    'min_samples_split': [2, 5],\n",
        "    'min_samples_leaf': [1, 5]\n",
        "}\n",
        "gs_rf = GridSearchCV(RandomForestClassifier(), param_grid_rf, cv=3, scoring='f1')\n",
        "gs_rf.fit(X_train, y_train)\n",
        "rf_best = gs_rf.best_estimator_\n",
        "rf_best.fit(X_train, y_train)\n",
        "y_test_pred = rf_best.predict(X_test)\n",
        "print(\"Random Forest - Wyniki optymalizacji:\")\n",
        "print(classification_report(y_test, y_test_pred))"
      ],
      "metadata": {
        "colab": {
          "base_uri": "https://localhost:8080/"
        },
        "id": "o4YQ_VYmLA9b",
        "outputId": "cb007329-4c04-4352-fedf-8e5dc9e0568d"
      },
      "execution_count": 19,
      "outputs": [
        {
          "output_type": "stream",
          "name": "stdout",
          "text": [
            "Random Forest - Wyniki optymalizacji:\n",
            "              precision    recall  f1-score   support\n",
            "\n",
            "           0       0.87      0.99      0.93        75\n",
            "           1       0.86      0.35      0.50        17\n",
            "\n",
            "    accuracy                           0.87        92\n",
            "   macro avg       0.86      0.67      0.71        92\n",
            "weighted avg       0.87      0.87      0.85        92\n",
            "\n"
          ]
        }
      ]
    },
    {
      "cell_type": "markdown",
      "source": [],
      "metadata": {
        "id": "0bzVuNjiLLmz"
      }
    },
    {
      "cell_type": "markdown",
      "source": [
        "#5. Random Forest\n",
        "##Dobór parametrów:\n",
        "\n",
        "- `n_estimators`: Liczba drzew (50, 100) została ograniczona, aby zredukować czas obliczeń.\n",
        "- `max_depth`, `min_samples_split`, `min_samples_leaf`: Podobne do drzew decyzyjnych, kontrolują złożoność modelu.\n",
        "\n",
        "#Wnioski:\n",
        "\n",
        "- Model osiągnął umiarkowany F1-score (0.50 dla klasy deszczowej). Mimo wysokiej precyzji (0.86), niski recall (0.35) wskazuje, że model pomija wiele dni deszczowych.\n",
        "- Możliwe jest, że liczba drzew jest zbyt mała, aby uchwycić pełny wzorzec danych.\n",
        "\n",
        "##Co poprawić:\n",
        "\n",
        "- Zwiększenie `n_estimators` do 200 lub 300.\n",
        "- Rozważenie `max_features` w celu ograniczenia liczby cech branych pod uwagę przy każdym podziale."
      ],
      "metadata": {
        "id": "6FoRd-leLXH2"
      }
    },
    {
      "cell_type": "code",
      "source": [
        "## Naive Bayes\n",
        "\n",
        "from sklearn.naive_bayes import GaussianNB\n",
        "\n",
        "nb = GaussianNB()\n",
        "nb.fit(X_train, y_train)\n",
        "y_test_pred = nb.predict(X_test)\n",
        "print(\"Naive Bayes - Wyniki bez optymalizacji:\")\n",
        "print(classification_report(y_test, y_test_pred))"
      ],
      "metadata": {
        "colab": {
          "base_uri": "https://localhost:8080/"
        },
        "id": "5bW2RkrHMHks",
        "outputId": "c525247c-62ab-4b9e-9501-e4f92907f4ce"
      },
      "execution_count": 20,
      "outputs": [
        {
          "output_type": "stream",
          "name": "stdout",
          "text": [
            "Naive Bayes - Wyniki bez optymalizacji:\n",
            "              precision    recall  f1-score   support\n",
            "\n",
            "           0       0.90      0.87      0.88        75\n",
            "           1       0.50      0.59      0.54        17\n",
            "\n",
            "    accuracy                           0.82        92\n",
            "   macro avg       0.70      0.73      0.71        92\n",
            "weighted avg       0.83      0.82      0.82        92\n",
            "\n"
          ]
        }
      ]
    },
    {
      "cell_type": "markdown",
      "source": [],
      "metadata": {
        "id": "lQifHd_eMJ4N"
      }
    },
    {
      "cell_type": "markdown",
      "source": [
        "#6. Naive Bayes\n",
        "##Dobór parametrów:\n",
        "\n",
        "- Model nie wymaga optymalizacji hiperparametrów, dlatego użyto domyślnych ustawień.\n",
        "\n",
        "##Wnioski:\n",
        "\n",
        "- Naive Bayes osiągnął stosunkowo dobry recall (0.59) dla klasy deszczowej, ale kosztem niższej precyzji (0.50).\n",
        "- Model zakłada niezależność cech, co może nie być zgodne z rzeczywistością danych pogodowych.\n",
        "\n",
        "##Co poprawić:\n",
        "\n",
        "- Zastosowanie innych wersji Naive Bayes, takich jak BernoulliNB (dla danych binarnych) lub MultinomialNB (dla danych liczbowych).\n",
        "- Redukcja liczby cech przez wybór najbardziej istotnych."
      ],
      "metadata": {
        "id": "Ey5QpNO_Mhn6"
      }
    },
    {
      "cell_type": "code",
      "source": [
        "## Wybór najlepszego modelu\n",
        "\n",
        "models = {\n",
        "    \"KNN\": knn_best,\n",
        "    \"Logistic Regression\": lr_best,\n",
        "    \"SVM\": svm_best,\n",
        "    \"Decision Tree\": dt_best,\n",
        "    \"Random Forest\": rf_best,\n",
        "    \"Naive Bayes\": nb\n",
        "}\n",
        "\n",
        "model_performance = []\n",
        "for name, model in models.items():\n",
        "    y_pred = model.predict(X_test)\n",
        "    report = classification_report(y_test, y_pred, output_dict=True)\n",
        "    model_performance.append({\"Model\": name, \"Precision (Rain)\": report[\"1\"][\"precision\"],\n",
        "                               \"Recall (Rain)\": report[\"1\"][\"recall\"],\n",
        "                               \"F1-Score (Rain)\": report[\"1\"][\"f1-score\"]})\n",
        "\n",
        "# Tworzenie wykresu podsumowującego skuteczność modeli\n",
        "performance_df = pd.DataFrame(model_performance)\n",
        "performance_df.set_index(\"Model\", inplace=True)\n",
        "\n",
        "performance_df.plot(kind=\"bar\", figsize=(10, 6))\n",
        "plt.title(\"Porównanie skuteczności modeli w wykrywaniu dni deszczowych\")\n",
        "plt.ylabel(\"Wartość metryki\")\n",
        "plt.xticks(rotation=45)\n",
        "plt.tight_layout()\n",
        "plt.show()"
      ],
      "metadata": {
        "colab": {
          "base_uri": "https://localhost:8080/",
          "height": 607
        },
        "id": "_8tMMjdhN-xg",
        "outputId": "6d323e93-c37a-4924-e668-71f50b702db7"
      },
      "execution_count": 21,
      "outputs": [
        {
          "output_type": "display_data",
          "data": {
            "text/plain": [
              "<Figure size 1000x600 with 1 Axes>"
            ],
            "image/png": "[encoded data removed]"
          },
          "metadata": {}
        }
      ]
    },
    {
      "cell_type": "markdown",
      "source": [
        "Wyniki obecnie są miarodajne, ponieważ:\n",
        "\n",
        "1. Spójne warunki porównania:\n",
        "\n",
        "  - Wszystkie modele używają Grid Search z metryką F1-score jako miary optymalizacji.\n",
        "  - Podział danych (z random_state=50) zapewnia powtarzalność i pozwala na obiektywne porównanie.\n",
        "2. Równe obciążenie Grid Search:\n",
        "\n",
        "  - Liczba iteracji została zredukowana dla bardziej złożonych modeli (np. Random Forest i Drzewo Decyzyjne), co ujednolica czas trwania obliczeń przy zachowaniu miarodajności.\n",
        "3. Metryki wyników:\n",
        "\n",
        "  - Wszystkie modele są oceniane na podstawie precyzji, recall i F1-score dla klasy deszczowej (Rain), co jest zgodne z celem."
      ],
      "metadata": {
        "id": "4gEJjllQOI-W"
      }
    }
  ]
}